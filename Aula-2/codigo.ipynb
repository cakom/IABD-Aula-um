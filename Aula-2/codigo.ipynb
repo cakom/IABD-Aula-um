{
 "cells": [
  {
   "cell_type": "code",
   "execution_count": 10,
   "id": "59c6e7ed",
   "metadata": {},
   "outputs": [],
   "source": [
    "#Aula 2 - configuração de ambiente de python\n"
   ]
  },
  {
   "cell_type": "code",
   "execution_count": 11,
   "id": "1ec1df46",
   "metadata": {},
   "outputs": [
    {
     "name": "stdout",
     "output_type": "stream",
     "text": [
      "Inteligência Artificial e Big Data\n"
     ]
    }
   ],
   "source": [
    "print(\"Inteligência Artificial e Big Data\")"
   ]
  },
  {
   "cell_type": "code",
   "execution_count": 9,
   "id": "1b085c03",
   "metadata": {},
   "outputs": [
    {
     "name": "stdout",
     "output_type": "stream",
     "text": [
      "Defaulting to user installation because normal site-packages is not writeable\n",
      "Requirement already satisfied: pandas in c:\\users\\dsadm\\appdata\\roaming\\python\\python313\\site-packages (2.3.1)\n",
      "Requirement already satisfied: numpy>=1.26.0 in c:\\users\\dsadm\\appdata\\roaming\\python\\python313\\site-packages (from pandas) (2.3.2)\n",
      "Requirement already satisfied: python-dateutil>=2.8.2 in c:\\users\\dsadm\\appdata\\roaming\\python\\python313\\site-packages (from pandas) (2.9.0.post0)\n",
      "Requirement already satisfied: pytz>=2020.1 in c:\\users\\dsadm\\appdata\\roaming\\python\\python313\\site-packages (from pandas) (2025.2)\n",
      "Requirement already satisfied: tzdata>=2022.7 in c:\\users\\dsadm\\appdata\\roaming\\python\\python313\\site-packages (from pandas) (2025.2)\n",
      "Requirement already satisfied: six>=1.5 in c:\\users\\dsadm\\appdata\\roaming\\python\\python313\\site-packages (from python-dateutil>=2.8.2->pandas) (1.17.0)\n"
     ]
    },
    {
     "name": "stderr",
     "output_type": "stream",
     "text": [
      "\n",
      "[notice] A new release of pip is available: 24.3.1 -> 25.2\n",
      "[notice] To update, run: C:\\Program Files\\Python313\\python.exe -m pip install --upgrade pip\n"
     ]
    }
   ],
   "source": [
    "#instalando o pacote pandas\n",
    "!pip install pandas\n"
   ]
  },
  {
   "cell_type": "code",
   "execution_count": 12,
   "id": "8332e483",
   "metadata": {},
   "outputs": [],
   "source": [
    "#importando o pacote pandas\n",
    "import pandas as pd"
   ]
  },
  {
   "cell_type": "code",
   "execution_count": 13,
   "id": "b3cf877a",
   "metadata": {},
   "outputs": [
    {
     "name": "stdout",
     "output_type": "stream",
     "text": [
      "        A  B   C\n",
      "Linha1  1 -3   0\n",
      "Linha2  2 -2  10\n",
      "Linha3  3 -1  20\n"
     ]
    }
   ],
   "source": [
    "#criando um  dicionário no python\n",
    "dicionario = {\n",
    "    'A': [1, 2, 3],\n",
    "    'B': [-3, -2, -1],\n",
    "    'C': ['0', '10', '20']\n",
    "\n",
    "}\n",
    "\n",
    "#criando um index para linhas do dicionário\n",
    "label = ['Linha1', 'Linha2', 'Linha3']\n",
    "\n",
    "#criando um dataframe \n",
    "Dataframe_01 = pd.DataFrame(dicionario, index=label)\n",
    "print(Dataframe_01)"
   ]
  },
  {
   "cell_type": "code",
   "execution_count": 14,
   "id": "641847a3",
   "metadata": {},
   "outputs": [
    {
     "name": "stdout",
     "output_type": "stream",
     "text": [
      "        A  B\n",
      "Linha1  1 -3\n",
      "Linha2  2 -2\n",
      "Linha3  3 -1\n"
     ]
    }
   ],
   "source": [
    "#selecionar as colunas A e B\n",
    "print(Dataframe_01[['A', 'B']])\n"
   ]
  },
  {
   "cell_type": "code",
   "execution_count": 15,
   "id": "85204eb0",
   "metadata": {},
   "outputs": [
    {
     "name": "stdout",
     "output_type": "stream",
     "text": [
      "        A   C\n",
      "Linha1  1   0\n",
      "Linha2  2  10\n",
      "Linha3  3  20\n"
     ]
    }
   ],
   "source": [
    "#selecionar a coluna A e C\n",
    "print(Dataframe_01[['A', 'C']])\n"
   ]
  },
  {
   "cell_type": "code",
   "execution_count": 16,
   "id": "da8c5a0a",
   "metadata": {},
   "outputs": [
    {
     "name": "stdout",
     "output_type": "stream",
     "text": [
      "        A  B   C  D\n",
      "Linha1  1 -3   0 -2\n",
      "Linha2  2 -2  10  0\n",
      "Linha3  3 -1  20  2\n"
     ]
    }
   ],
   "source": [
    "#criando uma nova coluna D\n",
    "Dataframe_01['D'] = Dataframe_01['A'] + Dataframe_01['B']\n",
    "print(Dataframe_01)"
   ]
  },
  {
   "cell_type": "code",
   "execution_count": null,
   "id": "06f400df",
   "metadata": {},
   "outputs": [],
   "source": []
  }
 ],
 "metadata": {
  "kernelspec": {
   "display_name": "Python 3",
   "language": "python",
   "name": "python3"
  },
  "language_info": {
   "codemirror_mode": {
    "name": "ipython",
    "version": 3
   },
   "file_extension": ".py",
   "mimetype": "text/x-python",
   "name": "python",
   "nbconvert_exporter": "python",
   "pygments_lexer": "ipython3",
   "version": "3.11.8"
  }
 },
 "nbformat": 4,
 "nbformat_minor": 5
}
