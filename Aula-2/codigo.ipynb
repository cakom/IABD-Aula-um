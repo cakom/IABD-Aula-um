{
 "cells": [
  {
   "cell_type": "code",
   "execution_count": 10,
   "id": "59c6e7ed",
   "metadata": {},
   "outputs": [],
   "source": [
    "#Aula 2 - configuração de ambiente de python\n"
   ]
  },
  {
   "cell_type": "code",
   "execution_count": 11,
   "id": "1ec1df46",
   "metadata": {},
   "outputs": [
    {
     "name": "stdout",
     "output_type": "stream",
     "text": [
      "Inteligência Artificial e Big Data\n"
     ]
    }
   ],
   "source": [
    "print(\"Inteligência Artificial e Big Data\")"
   ]
  },
  {
   "cell_type": "code",
   "execution_count": 9,
   "id": "1b085c03",
   "metadata": {},
   "outputs": [
    {
     "name": "stdout",
     "output_type": "stream",
     "text": [
      "Defaulting to user installation because normal site-packages is not writeable\n",
      "Requirement already satisfied: pandas in c:\\users\\dsadm\\appdata\\roaming\\python\\python313\\site-packages (2.3.1)\n",
      "Requirement already satisfied: numpy>=1.26.0 in c:\\users\\dsadm\\appdata\\roaming\\python\\python313\\site-packages (from pandas) (2.3.2)\n",
      "Requirement already satisfied: python-dateutil>=2.8.2 in c:\\users\\dsadm\\appdata\\roaming\\python\\python313\\site-packages (from pandas) (2.9.0.post0)\n",
      "Requirement already satisfied: pytz>=2020.1 in c:\\users\\dsadm\\appdata\\roaming\\python\\python313\\site-packages (from pandas) (2025.2)\n",
      "Requirement already satisfied: tzdata>=2022.7 in c:\\users\\dsadm\\appdata\\roaming\\python\\python313\\site-packages (from pandas) (2025.2)\n",
      "Requirement already satisfied: six>=1.5 in c:\\users\\dsadm\\appdata\\roaming\\python\\python313\\site-packages (from python-dateutil>=2.8.2->pandas) (1.17.0)\n"
     ]
    },
    {
     "name": "stderr",
     "output_type": "stream",
     "text": [
      "\n",
      "[notice] A new release of pip is available: 24.3.1 -> 25.2\n",
      "[notice] To update, run: C:\\Program Files\\Python313\\python.exe -m pip install --upgrade pip\n"
     ]
    }
   ],
   "source": [
    "#instalando o pacote pandas\n",
    "!pip install pandas\n"
   ]
  },
  {
   "cell_type": "code",
   "execution_count": 12,
   "id": "8332e483",
   "metadata": {},
   "outputs": [],
   "source": [
    "#importando o pacote pandas\n",
    "import pandas as pd"
   ]
  },
  {
   "cell_type": "code",
   "execution_count": 13,
   "id": "b3cf877a",
   "metadata": {},
   "outputs": [
    {
     "name": "stdout",
     "output_type": "stream",
     "text": [
      "        A  B   C\n",
      "Linha1  1 -3   0\n",
      "Linha2  2 -2  10\n",
      "Linha3  3 -1  20\n"
     ]
    }
   ],
   "source": [
    "#criando um  dicionário no python\n",
    "dicionario = {\n",
    "    'A': [1, 2, 3],\n",
    "    'B': [-3, -2, -1],\n",
    "    'C': ['0', '10', '20']\n",
    "\n",
    "}\n",
    "\n",
    "#criando um index para linhas do dicionário\n",
    "label = ['Linha1', 'Linha2', 'Linha3']\n",
    "\n",
    "#criando um dataframe \n",
    "Dataframe_01 = pd.DataFrame(dicionario, index=label)\n",
    "print(Dataframe_01)"
   ]
  },
  {
   "cell_type": "code",
   "execution_count": 14,
   "id": "641847a3",
   "metadata": {},
   "outputs": [
    {
     "name": "stdout",
     "output_type": "stream",
     "text": [
      "        A  B\n",
      "Linha1  1 -3\n",
      "Linha2  2 -2\n",
      "Linha3  3 -1\n"
     ]
    }
   ],
   "source": [
    "#selecionar as colunas A e B\n",
    "print(Dataframe_01[['A', 'B']])\n"
   ]
  },
  {
   "cell_type": "code",
   "execution_count": 15,
   "id": "85204eb0",
   "metadata": {},
   "outputs": [
    {
     "name": "stdout",
     "output_type": "stream",
     "text": [
      "        A   C\n",
      "Linha1  1   0\n",
      "Linha2  2  10\n",
      "Linha3  3  20\n"
     ]
    }
   ],
   "source": [
    "#selecionar a coluna A e C\n",
    "print(Dataframe_01[['A', 'C']])\n"
   ]
  },
  {
   "cell_type": "code",
   "execution_count": 16,
   "id": "da8c5a0a",
   "metadata": {},
   "outputs": [
    {
     "name": "stdout",
     "output_type": "stream",
     "text": [
      "        A  B   C  D\n",
      "Linha1  1 -3   0 -2\n",
      "Linha2  2 -2  10  0\n",
      "Linha3  3 -1  20  2\n"
     ]
    }
   ],
   "source": [
    "#criando uma nova coluna D\n",
    "Dataframe_01['D'] = Dataframe_01['A'] + Dataframe_01['B']\n",
    "print(Dataframe_01)"
   ]
  },
  {
   "cell_type": "code",
   "execution_count": 19,
   "id": "06f400df",
   "metadata": {},
   "outputs": [
    {
     "data": {
      "text/html": [
       "<div>\n",
       "<style scoped>\n",
       "    .dataframe tbody tr th:only-of-type {\n",
       "        vertical-align: middle;\n",
       "    }\n",
       "\n",
       "    .dataframe tbody tr th {\n",
       "        vertical-align: top;\n",
       "    }\n",
       "\n",
       "    .dataframe thead th {\n",
       "        text-align: right;\n",
       "    }\n",
       "</style>\n",
       "<table border=\"1\" class=\"dataframe\">\n",
       "  <thead>\n",
       "    <tr style=\"text-align: right;\">\n",
       "      <th></th>\n",
       "      <th>A</th>\n",
       "      <th>B</th>\n",
       "      <th>C</th>\n",
       "    </tr>\n",
       "  </thead>\n",
       "  <tbody>\n",
       "    <tr>\n",
       "      <th>Linha1</th>\n",
       "      <td>1</td>\n",
       "      <td>-3</td>\n",
       "      <td>0</td>\n",
       "    </tr>\n",
       "    <tr>\n",
       "      <th>Linha2</th>\n",
       "      <td>2</td>\n",
       "      <td>-2</td>\n",
       "      <td>10</td>\n",
       "    </tr>\n",
       "    <tr>\n",
       "      <th>Linha3</th>\n",
       "      <td>3</td>\n",
       "      <td>-1</td>\n",
       "      <td>20</td>\n",
       "    </tr>\n",
       "  </tbody>\n",
       "</table>\n",
       "</div>"
      ],
      "text/plain": [
       "        A  B   C\n",
       "Linha1  1 -3   0\n",
       "Linha2  2 -2  10\n",
       "Linha3  3 -1  20"
      ]
     },
     "execution_count": 19,
     "metadata": {},
     "output_type": "execute_result"
    }
   ],
   "source": [
    "#excluindo  uma coluna do dataframe\n",
    "Dataframe_01.drop(columns=['D'],axis=1) \n",
    "#sem usar o parâmetro inplace=True, a exclusão não é feita no próprio DataFrame, mas sim em uma cópia dele."
   ]
  },
  {
   "cell_type": "code",
   "execution_count": 20,
   "id": "a30c5ceb",
   "metadata": {},
   "outputs": [
    {
     "name": "stdout",
     "output_type": "stream",
     "text": [
      "A     1\n",
      "B    -3\n",
      "C     0\n",
      "D    -2\n",
      "Name: Linha1, dtype: object\n"
     ]
    }
   ],
   "source": [
    "# localizando uma linha específica\n",
    "print(Dataframe_01.loc['Linha1'])\n"
   ]
  },
  {
   "cell_type": "code",
   "execution_count": 23,
   "id": "f5e7a944",
   "metadata": {},
   "outputs": [
    {
     "name": "stdout",
     "output_type": "stream",
     "text": [
      "        A  B\n",
      "Linha1  1 -3\n",
      "Linha2  2 -2\n"
     ]
    }
   ],
   "source": [
    "# localizando linha e coluna específicas\n",
    " #  Linha1/2 e coluna A/B\n",
    "\n",
    "print(Dataframe_01.loc[['Linha1', 'Linha2'], ['A', 'B']])  # Linhas 1/2 e colunas A/B\n",
    "\n"
   ]
  },
  {
   "cell_type": "code",
   "execution_count": 26,
   "id": "e0af7899",
   "metadata": {},
   "outputs": [
    {
     "name": "stdout",
     "output_type": "stream",
     "text": [
      "        A  B   C  D\n",
      "Linha1  1 -3   0 -2\n",
      "Linha2  2 -2  10  0\n"
     ]
    }
   ],
   "source": [
    "#localizandi linhas pelo indice numérico\n",
    "print(Dataframe_01.iloc[0:2, :])   # Se quiser as duas primeiras linhas e todas as colunas:"
   ]
  },
  {
   "cell_type": "code",
   "execution_count": 29,
   "id": "7b42f738",
   "metadata": {},
   "outputs": [
    {
     "name": "stdout",
     "output_type": "stream",
     "text": [
      "        A  B   C  D\n",
      "Linha2  2 -2  10  0\n",
      "Linha3  3 -1  20  2\n"
     ]
    }
   ],
   "source": [
    "#criando um filtro condicional no dataframe\n",
    "Dataframe_01['C'] = pd.to_numeric(Dataframe_01['C'])  # converte a coluna C para números\n",
    "filtro = Dataframe_01['C'] > 0\n",
    "Dataframe_02 = Dataframe_01[filtro]\n",
    "print(Dataframe_02)"
   ]
  },
  {
   "cell_type": "code",
   "execution_count": 30,
   "id": "1191c38a",
   "metadata": {},
   "outputs": [
    {
     "data": {
      "text/html": [
       "<div>\n",
       "<style scoped>\n",
       "    .dataframe tbody tr th:only-of-type {\n",
       "        vertical-align: middle;\n",
       "    }\n",
       "\n",
       "    .dataframe tbody tr th {\n",
       "        vertical-align: top;\n",
       "    }\n",
       "\n",
       "    .dataframe thead th {\n",
       "        text-align: right;\n",
       "    }\n",
       "</style>\n",
       "<table border=\"1\" class=\"dataframe\">\n",
       "  <thead>\n",
       "    <tr style=\"text-align: right;\">\n",
       "      <th></th>\n",
       "      <th>A</th>\n",
       "      <th>B</th>\n",
       "      <th>C</th>\n",
       "      <th>D</th>\n",
       "    </tr>\n",
       "  </thead>\n",
       "  <tbody>\n",
       "    <tr>\n",
       "      <th>Linha1</th>\n",
       "      <td>True</td>\n",
       "      <td>False</td>\n",
       "      <td>False</td>\n",
       "      <td>False</td>\n",
       "    </tr>\n",
       "    <tr>\n",
       "      <th>Linha2</th>\n",
       "      <td>True</td>\n",
       "      <td>False</td>\n",
       "      <td>True</td>\n",
       "      <td>False</td>\n",
       "    </tr>\n",
       "    <tr>\n",
       "      <th>Linha3</th>\n",
       "      <td>True</td>\n",
       "      <td>False</td>\n",
       "      <td>True</td>\n",
       "      <td>True</td>\n",
       "    </tr>\n",
       "  </tbody>\n",
       "</table>\n",
       "</div>"
      ],
      "text/plain": [
       "           A      B      C      D\n",
       "Linha1  True  False  False  False\n",
       "Linha2  True  False   True  False\n",
       "Linha3  True  False   True   True"
      ]
     },
     "execution_count": 30,
     "metadata": {},
     "output_type": "execute_result"
    }
   ],
   "source": [
    "Dataframe_01>0\n"
   ]
  },
  {
   "cell_type": "code",
   "execution_count": 32,
   "id": "92625d29",
   "metadata": {},
   "outputs": [
    {
     "name": "stdout",
     "output_type": "stream",
     "text": [
      "Empty DataFrame\n",
      "Columns: [A, B, C, D]\n",
      "Index: []\n"
     ]
    }
   ],
   "source": [
    "\n",
    "#criando  filtros de duas colunas\n",
    "print(Dataframe_01[(Dataframe_01['A'] > 1) & (Dataframe_01['C'] < 0)])\n"
   ]
  },
  {
   "cell_type": "code",
   "execution_count": 34,
   "id": "806b86b7",
   "metadata": {},
   "outputs": [
    {
     "name": "stdout",
     "output_type": "stream",
     "text": [
      "        A  B   C  D\n",
      "Linha2  2 -2  10  0\n",
      "Linha3  3 -1  20  2\n"
     ]
    }
   ],
   "source": [
    "\n",
    "\n",
    "#criando um filtro de duas colunas com lógica or\n",
    "print(Dataframe_01[(Dataframe_01['A'] > 1) | (Dataframe_01['C'] < 0)])"
   ]
  },
  {
   "cell_type": "code",
   "execution_count": 35,
   "id": "7a52788e",
   "metadata": {},
   "outputs": [
    {
     "name": "stdout",
     "output_type": "stream",
     "text": [
      "        A  B   C  D\n",
      "Linha1  1 -3   0 -2\n",
      "Linha2  2 -2  10  0\n",
      "Linha3  3 -1  20  2\n"
     ]
    }
   ],
   "source": [
    "#Resetando o index do DataFrame\n",
    "Dataframe_01.reset_index()\n",
    "print(Dataframe_01)"
   ]
  },
  {
   "cell_type": "code",
   "execution_count": 36,
   "id": "01fc910b",
   "metadata": {},
   "outputs": [
    {
     "name": "stdout",
     "output_type": "stream",
     "text": [
      "   A  B   C  D\n",
      "0  1 -3   0 -2\n",
      "1  2 -2  10  0\n",
      "2  3 -1  20  2\n"
     ]
    }
   ],
   "source": [
    "#Resetando o index do DataFrame com inplace=True\n",
    "Dataframe_01.reset_index(drop=True, inplace=True)\n",
    "print(Dataframe_01)"
   ]
  },
  {
   "cell_type": "code",
   "execution_count": 38,
   "id": "ed15541b",
   "metadata": {},
   "outputs": [],
   "source": [
    "#  excluindo  uma coluna  no index\n",
    "#Dataframe_01.drop(columns=['index'], axis=1, inplace=True)"
   ]
  },
  {
   "cell_type": "code",
   "execution_count": null,
   "id": "09f1d48f",
   "metadata": {},
   "outputs": [],
   "source": [
    "#Criando varios dicionários\n",
    "dicionario_01a = {\n",
    "    'A': [4, 5, 6],\n",
    "    'B': [-6, -5, -4],\n",
    "    'C': [30, 40, 50],\n",
    "    'Chave': ['AA', 'BB', 'CC']\n",
    "}   \n",
    "\n",
    "dicionario_02 = {\n",
    "    'A': [7, 8, 9],\n",
    "    'B': [-9, -8, -7],\n",
    "    'C': [60, 70, 80],\n",
    "    'Chave': ['AA', 'BB', 'CC   ']\n",
    "\n",
    "}\n",
    "\n",
    "dicionario_03 = {\n",
    "    'A': [10, 11, 12],\n",
    "    'B': [-12, -11, -10],\n",
    "    'C': [90, 100, 110],\n",
    "    'Chave': ['AA', 'BB', 'CC']\n",
    "\n",
    "}\n",
    "\n",
    "#criando as listas  para serem os labels\n",
    "lista_01 = ['Linha1', 'Linha2', 'Linha3']\n",
    "lista_02 = ['Linha4', 'Linha5', 'Linha6']\n",
    "lista_03 = ['Linha7', 'Linha8', 'Linha9']\n",
    "\n",
    "\n",
    "#criando os dataframes\n",
    "Dataframe_01 = pd.DataFrame(dicionario_01a, index=lista_01)\n",
    "Dataframe_02 = pd.DataFrame(dicionario_02, index=lista_02)\n",
    "Dataframe_03 = pd.DataFrame(dicionario_03, index=lista_03)\n",
    "\n",
    "\n"
   ]
  },
  {
   "cell_type": "code",
   "execution_count": 53,
   "id": "2dfffd53",
   "metadata": {},
   "outputs": [
    {
     "name": "stdout",
     "output_type": "stream",
     "text": [
      "        A  B   C Chave\n",
      "Linha1  4 -6  30    AA\n",
      "Linha2  5 -5  40    BB\n",
      "Linha3  6 -4  50    CC\n",
      "        A  B   C  Chave\n",
      "Linha4  7 -9  60     AA\n",
      "Linha5  8 -8  70     BB\n",
      "Linha6  9 -7  80  CC   \n",
      "         A   B    C Chave\n",
      "Linha7  10 -12   90    AA\n",
      "Linha8  11 -11  100    BB\n",
      "Linha9  12 -10  110    CC\n"
     ]
    }
   ],
   "source": [
    "print(Dataframe_01)\n",
    "print(Dataframe_02)\n",
    "print(Dataframe_03)\n"
   ]
  },
  {
   "cell_type": "code",
   "execution_count": 54,
   "id": "d734e7e7",
   "metadata": {},
   "outputs": [
    {
     "data": {
      "text/html": [
       "<div>\n",
       "<style scoped>\n",
       "    .dataframe tbody tr th:only-of-type {\n",
       "        vertical-align: middle;\n",
       "    }\n",
       "\n",
       "    .dataframe tbody tr th {\n",
       "        vertical-align: top;\n",
       "    }\n",
       "\n",
       "    .dataframe thead th {\n",
       "        text-align: right;\n",
       "    }\n",
       "</style>\n",
       "<table border=\"1\" class=\"dataframe\">\n",
       "  <thead>\n",
       "    <tr style=\"text-align: right;\">\n",
       "      <th></th>\n",
       "      <th>A_x</th>\n",
       "      <th>B_x</th>\n",
       "      <th>C_x</th>\n",
       "      <th>Chave</th>\n",
       "      <th>A_y</th>\n",
       "      <th>B_y</th>\n",
       "      <th>C_y</th>\n",
       "    </tr>\n",
       "  </thead>\n",
       "  <tbody>\n",
       "    <tr>\n",
       "      <th>0</th>\n",
       "      <td>4.0</td>\n",
       "      <td>-6.0</td>\n",
       "      <td>30.0</td>\n",
       "      <td>AA</td>\n",
       "      <td>7.0</td>\n",
       "      <td>-9.0</td>\n",
       "      <td>60.0</td>\n",
       "    </tr>\n",
       "    <tr>\n",
       "      <th>1</th>\n",
       "      <td>5.0</td>\n",
       "      <td>-5.0</td>\n",
       "      <td>40.0</td>\n",
       "      <td>BB</td>\n",
       "      <td>8.0</td>\n",
       "      <td>-8.0</td>\n",
       "      <td>70.0</td>\n",
       "    </tr>\n",
       "    <tr>\n",
       "      <th>2</th>\n",
       "      <td>6.0</td>\n",
       "      <td>-4.0</td>\n",
       "      <td>50.0</td>\n",
       "      <td>CC</td>\n",
       "      <td>NaN</td>\n",
       "      <td>NaN</td>\n",
       "      <td>NaN</td>\n",
       "    </tr>\n",
       "    <tr>\n",
       "      <th>3</th>\n",
       "      <td>NaN</td>\n",
       "      <td>NaN</td>\n",
       "      <td>NaN</td>\n",
       "      <td>CC</td>\n",
       "      <td>9.0</td>\n",
       "      <td>-7.0</td>\n",
       "      <td>80.0</td>\n",
       "    </tr>\n",
       "  </tbody>\n",
       "</table>\n",
       "</div>"
      ],
      "text/plain": [
       "   A_x  B_x   C_x  Chave  A_y  B_y   C_y\n",
       "0  4.0 -6.0  30.0     AA  7.0 -9.0  60.0\n",
       "1  5.0 -5.0  40.0     BB  8.0 -8.0  70.0\n",
       "2  6.0 -4.0  50.0     CC  NaN  NaN   NaN\n",
       "3  NaN  NaN   NaN  CC     9.0 -7.0  80.0"
      ]
     },
     "execution_count": 54,
     "metadata": {},
     "output_type": "execute_result"
    }
   ],
   "source": [
    "#juntando os dataframes\n",
    "pd.merge(Dataframe_01, Dataframe_02, on='Chave', how='outer')  # junção externa\n",
    "\n"
   ]
  },
  {
   "cell_type": "code",
   "execution_count": 55,
   "id": "ae3eda75",
   "metadata": {},
   "outputs": [
    {
     "data": {
      "text/html": [
       "<div>\n",
       "<style scoped>\n",
       "    .dataframe tbody tr th:only-of-type {\n",
       "        vertical-align: middle;\n",
       "    }\n",
       "\n",
       "    .dataframe tbody tr th {\n",
       "        vertical-align: top;\n",
       "    }\n",
       "\n",
       "    .dataframe thead th {\n",
       "        text-align: right;\n",
       "    }\n",
       "</style>\n",
       "<table border=\"1\" class=\"dataframe\">\n",
       "  <thead>\n",
       "    <tr style=\"text-align: right;\">\n",
       "      <th></th>\n",
       "      <th>A</th>\n",
       "      <th>B</th>\n",
       "      <th>C</th>\n",
       "      <th>Chave</th>\n",
       "    </tr>\n",
       "  </thead>\n",
       "  <tbody>\n",
       "    <tr>\n",
       "      <th>Linha1</th>\n",
       "      <td>4</td>\n",
       "      <td>-6</td>\n",
       "      <td>30</td>\n",
       "      <td>AA</td>\n",
       "    </tr>\n",
       "    <tr>\n",
       "      <th>Linha2</th>\n",
       "      <td>5</td>\n",
       "      <td>-5</td>\n",
       "      <td>40</td>\n",
       "      <td>BB</td>\n",
       "    </tr>\n",
       "    <tr>\n",
       "      <th>Linha3</th>\n",
       "      <td>6</td>\n",
       "      <td>-4</td>\n",
       "      <td>50</td>\n",
       "      <td>CC</td>\n",
       "    </tr>\n",
       "    <tr>\n",
       "      <th>Linha4</th>\n",
       "      <td>7</td>\n",
       "      <td>-9</td>\n",
       "      <td>60</td>\n",
       "      <td>AA</td>\n",
       "    </tr>\n",
       "    <tr>\n",
       "      <th>Linha5</th>\n",
       "      <td>8</td>\n",
       "      <td>-8</td>\n",
       "      <td>70</td>\n",
       "      <td>BB</td>\n",
       "    </tr>\n",
       "    <tr>\n",
       "      <th>Linha6</th>\n",
       "      <td>9</td>\n",
       "      <td>-7</td>\n",
       "      <td>80</td>\n",
       "      <td>CC</td>\n",
       "    </tr>\n",
       "    <tr>\n",
       "      <th>Linha7</th>\n",
       "      <td>10</td>\n",
       "      <td>-12</td>\n",
       "      <td>90</td>\n",
       "      <td>AA</td>\n",
       "    </tr>\n",
       "    <tr>\n",
       "      <th>Linha8</th>\n",
       "      <td>11</td>\n",
       "      <td>-11</td>\n",
       "      <td>100</td>\n",
       "      <td>BB</td>\n",
       "    </tr>\n",
       "    <tr>\n",
       "      <th>Linha9</th>\n",
       "      <td>12</td>\n",
       "      <td>-10</td>\n",
       "      <td>110</td>\n",
       "      <td>CC</td>\n",
       "    </tr>\n",
       "  </tbody>\n",
       "</table>\n",
       "</div>"
      ],
      "text/plain": [
       "         A   B    C  Chave\n",
       "Linha1   4  -6   30     AA\n",
       "Linha2   5  -5   40     BB\n",
       "Linha3   6  -4   50     CC\n",
       "Linha4   7  -9   60     AA\n",
       "Linha5   8  -8   70     BB\n",
       "Linha6   9  -7   80  CC   \n",
       "Linha7  10 -12   90     AA\n",
       "Linha8  11 -11  100     BB\n",
       "Linha9  12 -10  110     CC"
      ]
     },
     "execution_count": 55,
     "metadata": {},
     "output_type": "execute_result"
    }
   ],
   "source": [
    "#juntando os dataframes\n",
    "pd.concat([Dataframe_01, Dataframe_02, Dataframe_03], axis=0)  # Concatenando verticalmente\n"
   ]
  },
  {
   "cell_type": "code",
   "execution_count": null,
   "id": "f98e5bbb",
   "metadata": {},
   "outputs": [],
   "source": []
  }
 ],
 "metadata": {
  "kernelspec": {
   "display_name": "Python 3",
   "language": "python",
   "name": "python3"
  },
  "language_info": {
   "codemirror_mode": {
    "name": "ipython",
    "version": 3
   },
   "file_extension": ".py",
   "mimetype": "text/x-python",
   "name": "python",
   "nbconvert_exporter": "python",
   "pygments_lexer": "ipython3",
   "version": "3.11.8"
  }
 },
 "nbformat": 4,
 "nbformat_minor": 5
}
