{
 "cells": [
  {
   "cell_type": "code",
   "execution_count": 2,
   "id": "67e0ac31",
   "metadata": {},
   "outputs": [],
   "source": [
    "import numpy as np\n",
    "import matplotlib.pyplot as plt\n",
    "import seaborn as sns\n",
    "from sklearn.model_selection import train_test_split #treino e teste\n",
    "from sklearn.tree import DecisionTreeClassifier\n",
    "from sklearn import tree\n"
   ]
  },
  {
   "cell_type": "code",
   "execution_count": 3,
   "id": "961bf36b",
   "metadata": {},
   "outputs": [
    {
     "name": "stdout",
     "output_type": "stream",
     "text": [
      "Defaulting to user installation because normal site-packages is not writeable\n",
      "Requirement already satisfied: numpy in c:\\users\\dsadm\\appdata\\roaming\\python\\python313\\site-packages (2.3.2)\n",
      "Requirement already satisfied: matplotlib in c:\\users\\dsadm\\appdata\\roaming\\python\\python313\\site-packages (3.10.5)\n",
      "Requirement already satisfied: seaborn in c:\\users\\dsadm\\appdata\\roaming\\python\\python313\\site-packages (0.13.2)\n",
      "Requirement already satisfied: scikit-learn in c:\\users\\dsadm\\appdata\\roaming\\python\\python313\\site-packages (1.7.2)\n",
      "Requirement already satisfied: contourpy>=1.0.1 in c:\\users\\dsadm\\appdata\\roaming\\python\\python313\\site-packages (from matplotlib) (1.3.3)\n",
      "Requirement already satisfied: cycler>=0.10 in c:\\users\\dsadm\\appdata\\roaming\\python\\python313\\site-packages (from matplotlib) (0.12.1)\n",
      "Requirement already satisfied: fonttools>=4.22.0 in c:\\users\\dsadm\\appdata\\roaming\\python\\python313\\site-packages (from matplotlib) (4.59.1)\n",
      "Requirement already satisfied: kiwisolver>=1.3.1 in c:\\users\\dsadm\\appdata\\roaming\\python\\python313\\site-packages (from matplotlib) (1.4.9)\n",
      "Requirement already satisfied: packaging>=20.0 in c:\\users\\dsadm\\appdata\\roaming\\python\\python313\\site-packages (from matplotlib) (25.0)\n",
      "Requirement already satisfied: pillow>=8 in c:\\users\\dsadm\\appdata\\roaming\\python\\python313\\site-packages (from matplotlib) (11.3.0)\n",
      "Requirement already satisfied: pyparsing>=2.3.1 in c:\\users\\dsadm\\appdata\\roaming\\python\\python313\\site-packages (from matplotlib) (3.2.3)\n",
      "Requirement already satisfied: python-dateutil>=2.7 in c:\\users\\dsadm\\appdata\\roaming\\python\\python313\\site-packages (from matplotlib) (2.9.0.post0)\n",
      "Requirement already satisfied: pandas>=1.2 in c:\\users\\dsadm\\appdata\\roaming\\python\\python313\\site-packages (from seaborn) (2.3.1)\n",
      "Requirement already satisfied: scipy>=1.8.0 in c:\\users\\dsadm\\appdata\\roaming\\python\\python313\\site-packages (from scikit-learn) (1.16.2)\n",
      "Requirement already satisfied: joblib>=1.2.0 in c:\\users\\dsadm\\appdata\\roaming\\python\\python313\\site-packages (from scikit-learn) (1.5.2)\n",
      "Requirement already satisfied: threadpoolctl>=3.1.0 in c:\\users\\dsadm\\appdata\\roaming\\python\\python313\\site-packages (from scikit-learn) (3.6.0)\n",
      "Requirement already satisfied: pytz>=2020.1 in c:\\users\\dsadm\\appdata\\roaming\\python\\python313\\site-packages (from pandas>=1.2->seaborn) (2025.2)\n",
      "Requirement already satisfied: tzdata>=2022.7 in c:\\users\\dsadm\\appdata\\roaming\\python\\python313\\site-packages (from pandas>=1.2->seaborn) (2025.2)\n",
      "Requirement already satisfied: six>=1.5 in c:\\users\\dsadm\\appdata\\roaming\\python\\python313\\site-packages (from python-dateutil>=2.7->matplotlib) (1.17.0)\n"
     ]
    },
    {
     "name": "stderr",
     "output_type": "stream",
     "text": [
      "\n",
      "[notice] A new release of pip is available: 24.3.1 -> 25.2\n",
      "[notice] To update, run: python.exe -m pip install --upgrade pip\n"
     ]
    }
   ],
   "source": [
    "!pip install numpy matplotlib seaborn scikit-learn\n"
   ]
  },
  {
   "cell_type": "code",
   "execution_count": 9,
   "id": "7d74cefa",
   "metadata": {},
   "outputs": [],
   "source": [
    "velocidade = np.array([10,5,8,6,12,4])\n",
    "complexidade = np.array(['baixa','alta','média','alta','baixa','alta'])\n",
    "manutenção = np.array(['baixa','alta','média','alta','baixa','média'])\n",
    "classificação = np.array(['montagem','teste','montagem','teste','montagem','teste'])"
   ]
  },
  {
   "cell_type": "code",
   "execution_count": null,
   "id": "de476721",
   "metadata": {},
   "outputs": [
    {
     "ename": "NameError",
     "evalue": "name 'velocidade_treino' is not defined",
     "output_type": "error",
     "traceback": [
      "\u001b[31m---------------------------------------------------------------------------\u001b[39m",
      "\u001b[31mNameError\u001b[39m                                 Traceback (most recent call last)",
      "\u001b[36mCell\u001b[39m\u001b[36m \u001b[39m\u001b[32mIn[11]\u001b[39m\u001b[32m, line 2\u001b[39m\n\u001b[32m      1\u001b[39m \u001b[38;5;66;03m#dividindo o conjunto de dados em treino e teste\u001b[39;00m\n\u001b[32m----> \u001b[39m\u001b[32m2\u001b[39m \u001b[43mvelocidade_treino\u001b[49m, velocidade_teste, \n\u001b[32m      3\u001b[39m complexidade_treino, complexidade_teste,\n\u001b[32m      4\u001b[39m manutenção_treinos, manutenção_teste, \n",
      "\u001b[31mNameError\u001b[39m: name 'velocidade_treino' is not defined"
     ]
    }
   ],
   "source": [
    "#dividindo o conjunto de dados em treino e teste\n",
    "velocidade_treino, velocidade_teste, \n",
    "complexidade_treino, complexidade_teste,\n",
    "manutenção_treino, manutenção_teste, \n",
    "classificação_treino, classificação_teste = train_test_split(\n",
    "    velocidade.reshape(-1,1), complexidade.reshape(-1,1),manutenção.reshape(-1,1),classificação.reshape(-1,1), test_size=0.2, random_state=42)\n",
    "\n",
    "    #80% treino e 20% teste "
   ]
  }
 ],
 "metadata": {
  "kernelspec": {
   "display_name": "Python 3",
   "language": "python",
   "name": "python3"
  },
  "language_info": {
   "codemirror_mode": {
    "name": "ipython",
    "version": 3
   },
   "file_extension": ".py",
   "mimetype": "text/x-python",
   "name": "python",
   "nbconvert_exporter": "python",
   "pygments_lexer": "ipython3",
   "version": "3.13.1"
  }
 },
 "nbformat": 4,
 "nbformat_minor": 5
}
