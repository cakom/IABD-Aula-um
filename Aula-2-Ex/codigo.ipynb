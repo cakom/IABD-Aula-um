{
 "cells": [
  {
   "cell_type": "code",
   "execution_count": null,
   "id": "8b49698b",
   "metadata": {},
   "outputs": [],
   "source": [
    "!pip install pandas\n"
   ]
  },
  {
   "cell_type": "code",
   "execution_count": 1,
   "id": "9713e0a7",
   "metadata": {},
   "outputs": [],
   "source": [
    "import pandas as pd"
   ]
  },
  {
   "cell_type": "code",
   "execution_count": 14,
   "id": "35d9f1e2",
   "metadata": {},
   "outputs": [],
   "source": [
    "D_01 = {\n",
    "    'Nomes':['Alice','Julia','Bruna','Daniel','Filipe','Silvio'],\n",
    "    'Idade':[19,22,28,34,28,48],\n",
    "    'Profissisões':['Direito','Engenharia','Enfermagem','Engenheiro Civil','Cientista da Computação','Engenheiro Elentronico'],\n",
    "    'ID':[1,2,3,4,5,6]\n",
    "}\n",
    "\n",
    "D_02 = {\n",
    "    'Número de produtos fabricados':[50,30,40,100],\n",
    "    'Setores':[1,2,3,4]\n",
    "}\n"
   ]
  },
  {
   "cell_type": "code",
   "execution_count": 15,
   "id": "ec862a2f",
   "metadata": {},
   "outputs": [],
   "source": [
    "Df_01 =pd.DataFrame(D_01)\n",
    "Df_02 =pd.DataFrame(D_02)"
   ]
  },
  {
   "cell_type": "code",
   "execution_count": 31,
   "id": "d9992256",
   "metadata": {},
   "outputs": [],
   "source": [
    "D_03 = {\n",
    "    'ID':[1,2,3,4],\n",
    "    'Nomes':['Ana','Pedro','Maria','João'],\n",
    "    'Setores':['Rh','Vendas','Administrativo','Produção'],\n",
    "    \n",
    "}\n",
    "D_04 = {\n",
    "    'ID':[1,2,3,4],\n",
    "    'Salário':[3000,2800,3200,2500]\n",
    "}\n",
    "\n"
   ]
  },
  {
   "cell_type": "code",
   "execution_count": 32,
   "id": "a1e7d850",
   "metadata": {},
   "outputs": [],
   "source": [
    "\n",
    "Df_03 =pd.DataFrame(D_03)\n",
    "Df_04 =pd.DataFrame(D_04)"
   ]
  },
  {
   "cell_type": "code",
   "execution_count": 33,
   "id": "f4697fbf",
   "metadata": {},
   "outputs": [
    {
     "data": {
      "text/html": [
       "<div>\n",
       "<style scoped>\n",
       "    .dataframe tbody tr th:only-of-type {\n",
       "        vertical-align: middle;\n",
       "    }\n",
       "\n",
       "    .dataframe tbody tr th {\n",
       "        vertical-align: top;\n",
       "    }\n",
       "\n",
       "    .dataframe thead th {\n",
       "        text-align: right;\n",
       "    }\n",
       "</style>\n",
       "<table border=\"1\" class=\"dataframe\">\n",
       "  <thead>\n",
       "    <tr style=\"text-align: right;\">\n",
       "      <th></th>\n",
       "      <th>ID</th>\n",
       "      <th>Nomes</th>\n",
       "      <th>Setores</th>\n",
       "      <th>Salário</th>\n",
       "    </tr>\n",
       "  </thead>\n",
       "  <tbody>\n",
       "    <tr>\n",
       "      <th>0</th>\n",
       "      <td>1</td>\n",
       "      <td>Ana</td>\n",
       "      <td>Rh</td>\n",
       "      <td>3000</td>\n",
       "    </tr>\n",
       "    <tr>\n",
       "      <th>1</th>\n",
       "      <td>2</td>\n",
       "      <td>Pedro</td>\n",
       "      <td>Vendas</td>\n",
       "      <td>2800</td>\n",
       "    </tr>\n",
       "    <tr>\n",
       "      <th>2</th>\n",
       "      <td>3</td>\n",
       "      <td>Maria</td>\n",
       "      <td>Administrativo</td>\n",
       "      <td>3200</td>\n",
       "    </tr>\n",
       "    <tr>\n",
       "      <th>3</th>\n",
       "      <td>4</td>\n",
       "      <td>João</td>\n",
       "      <td>Produção</td>\n",
       "      <td>2500</td>\n",
       "    </tr>\n",
       "  </tbody>\n",
       "</table>\n",
       "</div>"
      ],
      "text/plain": [
       "   ID  Nomes         Setores  Salário\n",
       "0   1    Ana              Rh     3000\n",
       "1   2  Pedro          Vendas     2800\n",
       "2   3  Maria  Administrativo     3200\n",
       "3   4   João        Produção     2500"
      ]
     },
     "execution_count": 33,
     "metadata": {},
     "output_type": "execute_result"
    }
   ],
   "source": [
    "#juntando os dois DataFrames\n",
    "pd.merge(Df_03,Df_04,how='inner',on='ID')"
   ]
  },
  {
   "cell_type": "code",
   "execution_count": null,
   "id": "0e613368",
   "metadata": {},
   "outputs": [],
   "source": []
  }
 ],
 "metadata": {
  "kernelspec": {
   "display_name": "Python 3",
   "language": "python",
   "name": "python3"
  },
  "language_info": {
   "codemirror_mode": {
    "name": "ipython",
    "version": 3
   },
   "file_extension": ".py",
   "mimetype": "text/x-python",
   "name": "python",
   "nbconvert_exporter": "python",
   "pygments_lexer": "ipython3",
   "version": "3.11.8"
  }
 },
 "nbformat": 4,
 "nbformat_minor": 5
}
